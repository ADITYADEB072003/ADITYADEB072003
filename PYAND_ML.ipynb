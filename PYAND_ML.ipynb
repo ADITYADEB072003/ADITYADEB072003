{
  "nbformat": 4,
  "nbformat_minor": 0,
  "metadata": {
    "colab": {
      "provenance": [],
      "collapsed_sections": [
        "W9Os-ozd63P3"
      ],
      "include_colab_link": true
    },
    "kernelspec": {
      "name": "python3",
      "display_name": "Python 3"
    },
    "language_info": {
      "name": "python"
    }
  },
  "cells": [
    {
      "cell_type": "markdown",
      "metadata": {
        "id": "view-in-github",
        "colab_type": "text"
      },
      "source": [
        "<a href=\"https://colab.research.google.com/github/ADITYADEB072003/ADITYADEB072003/blob/master/PYAND_ML.ipynb\" target=\"_parent\"><img src=\"https://colab.research.google.com/assets/colab-badge.svg\" alt=\"Open In Colab\"/></a>"
      ]
    },
    {
      "cell_type": "markdown",
      "source": [
        "1. Count the number of digits in a number."
      ],
      "metadata": {
        "id": "4t7_wvzbLjrx"
      }
    },
    {
      "cell_type": "code",
      "source": [
        "\n",
        "count=0\n",
        "def no_digit(no):\n",
        "  if no==0:\n",
        "    return 1\n",
        "  count=0\n",
        "\n",
        "  while no!=0:\n",
        "    no=no//10\n",
        "    count=count+1\n",
        "  return count\n",
        "\n",
        "no=int(input(\"Enter the no\"))\n",
        "no_digit(no)\n"
      ],
      "metadata": {
        "colab": {
          "base_uri": "https://localhost:8080/"
        },
        "id": "v1cL9wS8LtS_",
        "outputId": "1fdff629-8dbe-4886-9484-e9ad4a3ebde4"
      },
      "execution_count": null,
      "outputs": [
        {
          "name": "stdout",
          "output_type": "stream",
          "text": [
            "Enter the no1234\n"
          ]
        },
        {
          "output_type": "execute_result",
          "data": {
            "text/plain": [
              "4"
            ]
          },
          "metadata": {},
          "execution_count": 3
        }
      ]
    },
    {
      "cell_type": "markdown",
      "source": [
        "2. Find the sum of odd digits in the given numbe"
      ],
      "metadata": {
        "id": "xktrLlRpLi13"
      }
    },
    {
      "cell_type": "code",
      "source": [
        "\n",
        "count=0\n",
        "def no_digit(no):\n",
        "  if no==0:\n",
        "    return 1\n",
        "  count=0\n",
        "  sum=0\n",
        "  while no!=0:\n",
        "    digit=no%10\n",
        "    if(digit%2!=0):\n",
        "      sum+=digit\n",
        "\n",
        "    no=no//10\n",
        "\n",
        "  return sum\n"
      ],
      "metadata": {
        "colab": {
          "base_uri": "https://localhost:8080/"
        },
        "id": "e1zkthNYNFyB",
        "outputId": "66b43240-23a8-4b8a-bffa-cff33fef8862"
      },
      "execution_count": null,
      "outputs": [
        {
          "output_type": "stream",
          "name": "stdout",
          "text": [
            "Enter the no456\n",
            "Sum of odd digit 5\n"
          ]
        }
      ]
    },
    {
      "cell_type": "markdown",
      "source": [
        "## 3.Find the factorial of a number"
      ],
      "metadata": {
        "id": "sFcDgI0RNr9s"
      }
    },
    {
      "cell_type": "code",
      "source": [
        "def fact(no):\n",
        "  fact=1\n",
        "  for i in range(1,no+1):\n",
        "    fact*=i\n",
        "  return fact\n",
        "\n",
        "no=int(input(\"Enter the no\"))\n",
        "print(\"factorial\",fact(no))\n"
      ],
      "metadata": {
        "colab": {
          "base_uri": "https://localhost:8080/"
        },
        "id": "CBRdC67ZNx5M",
        "outputId": "796cc273-e245-4199-b281-8a0f74601c31"
      },
      "execution_count": null,
      "outputs": [
        {
          "output_type": "stream",
          "name": "stdout",
          "text": [
            "Enter the no5\n",
            "factorial 24\n"
          ]
        }
      ]
    },
    {
      "cell_type": "markdown",
      "source": [
        "4. Find the largest of 3 numbers"
      ],
      "metadata": {
        "id": "3qzxOqmGPVoT"
      }
    },
    {
      "cell_type": "code",
      "source": [
        "no=int(input(\"Enter the no=\"))\n",
        "no1=int(input(\"Enter the no2=\"))\n",
        "no2=int(input(\"Enter the no 3=\"))\n",
        "print(\"Largest of three no\",max(no,no1,no2))"
      ],
      "metadata": {
        "colab": {
          "base_uri": "https://localhost:8080/"
        },
        "id": "krudoHALPWib",
        "outputId": "3912d67c-f0e9-4e09-f67b-5106261093d2"
      },
      "execution_count": null,
      "outputs": [
        {
          "output_type": "stream",
          "name": "stdout",
          "text": [
            "Enter the no2\n",
            "Enter the no230\n",
            "Enter the no 36\n",
            "Largest of three no 30\n"
          ]
        }
      ]
    },
    {
      "cell_type": "markdown",
      "source": [
        "5. Write a program to calculate the average of n numbers entered by the user."
      ],
      "metadata": {
        "id": "oBVFV2fbQWQj"
      }
    },
    {
      "cell_type": "code",
      "source": [
        "num = int(input('How many numbers: '))\n",
        "total_sum = 0\n",
        "for n in range(num):\n",
        "    numbers = float(input('Enter number : '))\n",
        "    total_sum += numbers\n",
        "    avg = total_sum/num\n",
        "print('Average of ', num, ' numbers is :', avg)"
      ],
      "metadata": {
        "colab": {
          "base_uri": "https://localhost:8080/"
        },
        "id": "TtgEykEKQZCX",
        "outputId": "f3491437-8b5d-42df-e09b-f31a57f8407b"
      },
      "execution_count": null,
      "outputs": [
        {
          "output_type": "stream",
          "name": "stdout",
          "text": [
            "How many numbers: 4\n",
            "Enter number : 1\n",
            "Enter number : 2\n",
            "Enter number : 3\n",
            "Enter number : 4\n",
            "Average of  4  numbers is : 2.5\n"
          ]
        }
      ]
    },
    {
      "cell_type": "markdown",
      "source": [
        "6. Count Vowels in a String"
      ],
      "metadata": {
        "id": "sAR5XJuTRGO5"
      }
    },
    {
      "cell_type": "code",
      "source": [
        "string=str(input(\"Enter the String\"))\n",
        "stringlow=string.lower()\n",
        "count=0\n",
        "for i in stringlow:\n",
        "  if i=='a'or i=='e' or i=='i' or i=='o' or i=='u':\n",
        "    count+=1\n",
        "print(count)"
      ],
      "metadata": {
        "colab": {
          "base_uri": "https://localhost:8080/"
        },
        "id": "b9mf_o54RGDR",
        "outputId": "cda7b867-5343-4437-8643-29ac5ba05eae"
      },
      "execution_count": null,
      "outputs": [
        {
          "output_type": "stream",
          "name": "stdout",
          "text": [
            "Enter the Stringaeiou\n",
            "5\n"
          ]
        }
      ]
    },
    {
      "cell_type": "markdown",
      "source": [
        "7. Write a program to check if a given number is an Armstrong number."
      ],
      "metadata": {
        "id": "Ou3PTKc2SoXQ"
      }
    },
    {
      "cell_type": "code",
      "source": [
        "def no_digit(no):\n",
        "    if no == 0:\n",
        "        return 1\n",
        "    count = 0\n",
        "    while no != 0:\n",
        "        no = no // 10\n",
        "        count = count + 1\n",
        "    return count\n",
        "\n",
        "def no_count(no):\n",
        "    count = no_digit(no)  # Number of digits\n",
        "    rev = 0\n",
        "    temp = no  # Temporary variable to store original number\n",
        "    while no != 0:\n",
        "        digit = no % 10\n",
        "        rev += digit ** count\n",
        "        no = no // 10\n",
        "\n",
        "    if temp == rev:\n",
        "        print(\"Armstrong Number\")\n",
        "    else:\n",
        "        print(\"Not an Armstrong Number\")\n",
        "\n",
        "# Input from user\n",
        "no = int(input(\"Enter the number: \"))\n",
        "no_count(no)\n"
      ],
      "metadata": {
        "colab": {
          "base_uri": "https://localhost:8080/"
        },
        "id": "edsMWaguSpU6",
        "outputId": "48b364eb-bb96-418d-cefa-9a4680c5397d"
      },
      "execution_count": null,
      "outputs": [
        {
          "output_type": "stream",
          "name": "stdout",
          "text": [
            "Enter the number: 789\n",
            "Not an Armstrong Number\n"
          ]
        }
      ]
    },
    {
      "cell_type": "markdown",
      "source": [
        "Write a program to calculate the greatest common divisor (GCD) of two numbers"
      ],
      "metadata": {
        "id": "JXQOCkWaU2h8"
      }
    },
    {
      "cell_type": "code",
      "source": [
        "def gcd(a,b):\n",
        "  if (b==0):\n",
        "    return a\n",
        "  else:\n",
        "    return gcd(b,a%b)\n",
        "\n",
        "\n",
        "\n",
        "# prints 12\n",
        "print(\"The gcd of 60 and 48 is : \", end=\"\")\n",
        "print(gcd(60, 48))"
      ],
      "metadata": {
        "colab": {
          "base_uri": "https://localhost:8080/"
        },
        "id": "z82DP7XHU8Ak",
        "outputId": "898bd570-9adb-4568-c7f9-9785a2b4a70a"
      },
      "execution_count": null,
      "outputs": [
        {
          "output_type": "stream",
          "name": "stdout",
          "text": [
            "The gcd of 60 and 48 is : 12\n"
          ]
        }
      ]
    },
    {
      "cell_type": "markdown",
      "source": [
        " Write a program to calculate the least common multiple (LCM) of two numbers."
      ],
      "metadata": {
        "id": "t2ppXKx2XGwe"
      }
    },
    {
      "cell_type": "code",
      "source": [
        "def grlcm(a, b):\n",
        "    if a > b:\n",
        "        greater = a\n",
        "    else:\n",
        "        greater = b\n",
        "\n",
        "    while True:\n",
        "        if greater % a == 0 and greater % b == 0:\n",
        "            lcm = greater\n",
        "            break\n",
        "        greater += 1\n",
        "    return lcm\n",
        "\n",
        "\n",
        "# prints 240\n",
        "print(\"The lcm of 3 and 4 is : \", end=\"\")\n",
        "print(grlcm(3, 4))\n"
      ],
      "metadata": {
        "colab": {
          "base_uri": "https://localhost:8080/"
        },
        "id": "SOovyhYxXHun",
        "outputId": "9ffa8740-edeb-490c-d1ce-64678a58d274"
      },
      "execution_count": null,
      "outputs": [
        {
          "output_type": "stream",
          "name": "stdout",
          "text": [
            "The lcm of 3 and 4 is : 12\n"
          ]
        }
      ]
    },
    {
      "cell_type": "markdown",
      "source": [
        "# **LAB1**"
      ],
      "metadata": {
        "id": "W9Os-ozd63P3"
      }
    },
    {
      "cell_type": "markdown",
      "source": [],
      "metadata": {
        "id": "EdqWJeHE7Ayn"
      }
    },
    {
      "cell_type": "code",
      "source": [],
      "metadata": {
        "id": "TH0jTnTg68NH"
      },
      "execution_count": null,
      "outputs": []
    },
    {
      "cell_type": "markdown",
      "source": [
        "# **Conditional Statement**"
      ],
      "metadata": {
        "id": "oDJVuUTA6MkT"
      }
    },
    {
      "cell_type": "code",
      "source": [
        "# Example\n",
        "\n",
        "\n",
        "# -*- coding: utf-8 -*-\n",
        "\"\"\"Conditional.ipynb\n",
        "\n",
        "Automatically generated by Colab.\n",
        "\n",
        "Original file is located at\n",
        "    https://colab.research.google.com/drive/12SnnfR-JsFtu2zVsUobdb16aCvyYsZN-\n",
        "\"\"\"\n",
        "\n",
        "'''\n",
        "If-else statements allow you to execute specific blocks of code based on conditions.\n",
        "'''\n",
        "\n",
        "# Checking if a number is positive\n",
        "number = 5\n",
        "\n",
        "if number > 0:\n",
        "    print(\"The number is positive.\")\n",
        "else:\n",
        "    print(\"The number is not positive.\")\n",
        "\n",
        "'''\n",
        "If-elif-else statements extend the basic if-else logic by allowing multiple conditions.\n",
        "'''\n",
        "\n",
        "# Checking if a number is positive, negative, or zero\n",
        "number = 5\n",
        "\n",
        "if number > 0:\n",
        "    print(\"The number is positive.\")\n",
        "elif number < 0:\n",
        "    print(\"The number is negative.\")\n",
        "else:\n",
        "    print(\"The number is zero.\")\n",
        "\n",
        "'''\n",
        "While loops are used to repeat a block of code as long as a condition is True.\n",
        "'''\n",
        "# Counting down from 5 to 1\n",
        "count = 5\n",
        "\n",
        "while count > 0:\n",
        "    print(count)\n",
        "    count -= 1  # Decrement count by 1\n",
        "\n",
        "'''\n",
        "For loops are used to iterate over a sequence (like a list, tuple, string, or range).\n",
        "\n",
        "Using range()\n",
        "\n",
        "The range() function generates a sequence of numbers.\n",
        "\n",
        "range(stop): Generates numbers from 0 to stop - 1.\n",
        "\n",
        "range(start, stop, step): Generates numbers from start to stop - 1 with a step of step.\n",
        "'''\n",
        "\n",
        "\n",
        "# Printing numbers from 0 to 4\n",
        "for i in range(5):\n",
        "    print(i)\n",
        "\n",
        "# Printing numbers from 1 to 10 with a step of 2\n",
        "for i in range(1, 11, 2):\n",
        "    print(i)\n",
        "\n",
        "'''\n",
        "Basic Iteration Over a List\n",
        "'''\n",
        "colors = [\"red\", \"green\", \"blue\"]\n",
        "for color in colors:\n",
        "    print(color)\n",
        "\n",
        "'''\n",
        "Using Index With enumerate()\n",
        "'''\n",
        "fruits = [\"apple\", \"banana\", \"cherry\"]\n",
        "for index, fruit in enumerate(fruits):\n",
        "    print(f\"Index {index}: {fruit}\")\n",
        "\n",
        "'''\n",
        "Iterating Over a Dictionary\n",
        "'''\n",
        "student_scores = {\"Alice\": 85, \"Bob\": 92, \"Charlie\": 78}\n",
        "for student, score in student_scores.items():\n",
        "    print(f\"{student}: {score}\")\n",
        "\n",
        "'''\n",
        "List Comprehension (One-Liner Loop)\n",
        "'''\n",
        "squares = [x**2 for x in range(5)]\n",
        "print(squares)  # Output: [0, 1, 4, 9, 16]\n",
        "\n",
        "'''\n",
        "Nested For Loops\n",
        "'''\n",
        "matrix = [[1, 2, 3], [4, 5, 6], [7, 8, 9]]\n",
        "for row in matrix:\n",
        "    for value in row:\n",
        "        print(value, end=\" \")\n",
        "    print()  # Newline after each row\n",
        "\n"
      ],
      "metadata": {
        "id": "blRPYZsQZsqR",
        "colab": {
          "base_uri": "https://localhost:8080/"
        },
        "outputId": "0a88ba5b-494a-40ad-ef2b-4caa6a8feecd"
      },
      "execution_count": null,
      "outputs": [
        {
          "output_type": "stream",
          "name": "stdout",
          "text": [
            "The number is positive.\n",
            "The number is positive.\n",
            "5\n",
            "4\n",
            "3\n",
            "2\n",
            "1\n",
            "0\n",
            "1\n",
            "2\n",
            "3\n",
            "4\n",
            "1\n",
            "3\n",
            "5\n",
            "7\n",
            "9\n",
            "red\n",
            "green\n",
            "blue\n",
            "Index 0: apple\n",
            "Index 1: banana\n",
            "Index 2: cherry\n",
            "Alice: 85\n",
            "Bob: 92\n",
            "Charlie: 78\n",
            "[0, 1, 4, 9, 16]\n",
            "1 2 3 \n",
            "4 5 6 \n",
            "7 8 9 \n"
          ]
        }
      ]
    },
    {
      "cell_type": "markdown",
      "source": [
        "Q1.1. Define a list of 10 integer values and for loop to find the largest and smallest value in the list along with index"
      ],
      "metadata": {
        "id": "BV6HPEZG99DG"
      }
    },
    {
      "cell_type": "code",
      "source": [
        "list=[1,20,3,4,5,6,7,8,9,10]\n",
        "largest=list[0]\n",
        "smallest=list[0]\n",
        "largestindex=0\n",
        "smallestindex=0\n",
        "\n",
        "for i in range(len(list)):\n",
        "  if list[i]>largest:\n",
        "    largest=list[i]\n",
        "    largestindex=i\n",
        "  if list[i]<smallest:\n",
        "    smallest=list[i]\n",
        "    smallestindex=i\n",
        "\n",
        "print(f\"Largest element={largest} with index={largestindex}\")\n",
        "print(f\"Smallest element={smallest} with index={smallestindex}\")\n"
      ],
      "metadata": {
        "colab": {
          "base_uri": "https://localhost:8080/"
        },
        "id": "pRw4oPUH9_Bz",
        "outputId": "0c335375-d740-47ce-c3dd-5394f20f3ef3"
      },
      "execution_count": null,
      "outputs": [
        {
          "output_type": "stream",
          "name": "stdout",
          "text": [
            "Largest element=20 with index=1\n",
            "Smallest element=1 with index=0\n"
          ]
        }
      ]
    },
    {
      "cell_type": "markdown",
      "source": [
        "**2. Define a list to store the names of five cities and display their names**"
      ],
      "metadata": {
        "id": "LRX2qfSBBYDz"
      }
    },
    {
      "cell_type": "code",
      "source": [
        "citylist=['Delhi','Guwahati','Mumbai','Hyderabad','Chennai']\n",
        "for i in citylist:\n",
        "  print(f\"City={i}\")"
      ],
      "metadata": {
        "colab": {
          "base_uri": "https://localhost:8080/"
        },
        "id": "8y-fSAjjBjzU",
        "outputId": "26159ae8-1c7e-4151-cb2a-b0983fab65a2"
      },
      "execution_count": null,
      "outputs": [
        {
          "output_type": "stream",
          "name": "stdout",
          "text": [
            "City=Delhi\n",
            "City=Guwahati\n",
            "City=Mumbai\n",
            "City=Hyderabad\n"
          ]
        }
      ]
    },
    {
      "cell_type": "markdown",
      "source": [
        "Using for loop w.a.p to find the sum of square  first n natural number...**bold text**"
      ],
      "metadata": {
        "id": "WeTzaaSqCLbU"
      }
    },
    {
      "cell_type": "code",
      "source": [
        "n=int(input(\"Enter the natural number end point for square\"))\n",
        "sum=0\n",
        "for i in range(1,n+1):\n",
        "  sum+=i**2\n",
        "\n",
        "print(f'Sum of square of {n} natural number is ={sum}')"
      ],
      "metadata": {
        "colab": {
          "base_uri": "https://localhost:8080/"
        },
        "id": "D89w99TPCDQu",
        "outputId": "487d1c7c-dc65-4aa7-fe56-a2ae61660ccf"
      },
      "execution_count": null,
      "outputs": [
        {
          "output_type": "stream",
          "name": "stdout",
          "text": [
            "Enter the natural number end point for square6\n",
            "Sum of square of 6 natural number are =91\n"
          ]
        }
      ]
    },
    {
      "cell_type": "markdown",
      "source": [
        "Write a program print the grades of a student."
      ],
      "metadata": {
        "id": "yDQxbCE4Dg3v"
      }
    },
    {
      "cell_type": "code",
      "source": [
        "grade=int(input(\"Enter the grade\"))\n",
        "if grade >90 :\n",
        "  print(\"O\")\n",
        "elif grade>80 and grade <90:\n",
        "  print(\"E\")\n",
        "elif grade>70 and grade <80:\n",
        "  print(\"A+\")\n",
        "elif grade >60 and grade < 70:\n",
        "  print(\"A\")\n",
        "elif grade>50 and grade <60:\n",
        "  print(\"C\")\n",
        "elif grade >40 and grade <50:\n",
        "  print(\"P\")\n",
        "else:\n",
        "  print(\"Fail\")\n"
      ],
      "metadata": {
        "colab": {
          "base_uri": "https://localhost:8080/"
        },
        "id": "2DowH2ZiDiKO",
        "outputId": "e331ae98-266f-4e3e-a88f-eefdfa153774"
      },
      "execution_count": null,
      "outputs": [
        {
          "output_type": "stream",
          "name": "stdout",
          "text": [
            "Enter the grade560\n",
            "O\n"
          ]
        }
      ]
    },
    {
      "cell_type": "markdown",
      "source": [
        "Using for loop create a list of x cube where the starting p..oint of x and end point of x is user defined"
      ],
      "metadata": {
        "id": "6gMhkT0zCKvv"
      }
    },
    {
      "cell_type": "code",
      "source": [
        "s=int(input(\"Enter the natural number start point for square\"))\n",
        "n=int(input(\"Enter the natural number end point for square\"))\n",
        "\n",
        "cubes_list=[]\n",
        "for x in range(s, n + 1):\n",
        "    cubes_list.append(x**3)\n",
        "\n",
        "# Print the list of cubes\n",
        "print(\"List of cubes:\", cubes_list)"
      ],
      "metadata": {
        "colab": {
          "base_uri": "https://localhost:8080/"
        },
        "id": "5xF-1wx-Exuq",
        "outputId": "bf6bbb35-a03f-4bcd-9d79-11939d545440"
      },
      "execution_count": null,
      "outputs": [
        {
          "output_type": "stream",
          "name": "stdout",
          "text": [
            "Enter the natural number start point for square1\n",
            "Enter the natural number end point for square13\n",
            "List of cubes: [1, 8, 27, 64, 125, 216, 343, 512, 729, 1000, 1331, 1728, 2197]\n"
          ]
        }
      ]
    },
    {
      "cell_type": "markdown",
      "source": [
        " 1. Generate a list of numbers from 1-50, where each number is divisible by 5"
      ],
      "metadata": {
        "id": "rEsp8P8_HIlh"
      }
    },
    {
      "cell_type": "code",
      "source": [
        "numbers = [i for i in range(1, 51) if i % 5 == 0]\n",
        "print(numbers)\n"
      ],
      "metadata": {
        "colab": {
          "base_uri": "https://localhost:8080/"
        },
        "id": "bBtyEen1HdHW",
        "outputId": "dd83332e-bada-4b35-ce4c-d8fd252476ea"
      },
      "execution_count": null,
      "outputs": [
        {
          "output_type": "stream",
          "name": "stdout",
          "text": [
            "[5, 10, 15, 20, 25, 30, 35, 40, 45, 50]\n"
          ]
        }
      ]
    },
    {
      "cell_type": "markdown",
      "source": [
        "2. Store the grades of 10 students in a list. Find the highest, lowest and average grades."
      ],
      "metadata": {
        "id": "303xdPRBHqKH"
      }
    },
    {
      "cell_type": "code",
      "source": [
        "grades = [8.5, 9.2, 7.8, 9.0, 8.8, 7.6, 9.5, 8.9, 8.3, 9.1]\n",
        "\n",
        "highest = max(grades)\n",
        "lowest = min(grades)\n",
        "average = float(sum(grades)) / len(grades)\n",
        "\n",
        "print(f\"Highest Grade: {highest}\")\n",
        "print(f\"Lowest Grade: {lowest}\")\n",
        "print(f\"Average Grade: {average:.2f}\")\n"
      ],
      "metadata": {
        "colab": {
          "base_uri": "https://localhost:8080/",
          "height": 231
        },
        "id": "evjgb89hHxbQ",
        "outputId": "02d9db06-2574-4e22-b24e-85f04f90ae19"
      },
      "execution_count": null,
      "outputs": [
        {
          "output_type": "error",
          "ename": "TypeError",
          "evalue": "'int' object is not callable",
          "traceback": [
            "\u001b[0;31m---------------------------------------------------------------------------\u001b[0m",
            "\u001b[0;31mTypeError\u001b[0m                                 Traceback (most recent call last)",
            "\u001b[0;32m<ipython-input-27-b104dc857d88>\u001b[0m in \u001b[0;36m<cell line: 0>\u001b[0;34m()\u001b[0m\n\u001b[1;32m      3\u001b[0m \u001b[0mhighest\u001b[0m \u001b[0;34m=\u001b[0m \u001b[0mmax\u001b[0m\u001b[0;34m(\u001b[0m\u001b[0mgrades\u001b[0m\u001b[0;34m)\u001b[0m\u001b[0;34m\u001b[0m\u001b[0;34m\u001b[0m\u001b[0m\n\u001b[1;32m      4\u001b[0m \u001b[0mlowest\u001b[0m \u001b[0;34m=\u001b[0m \u001b[0mmin\u001b[0m\u001b[0;34m(\u001b[0m\u001b[0mgrades\u001b[0m\u001b[0;34m)\u001b[0m\u001b[0;34m\u001b[0m\u001b[0;34m\u001b[0m\u001b[0m\n\u001b[0;32m----> 5\u001b[0;31m \u001b[0maverage\u001b[0m \u001b[0;34m=\u001b[0m \u001b[0mfloat\u001b[0m\u001b[0;34m(\u001b[0m\u001b[0msum\u001b[0m\u001b[0;34m(\u001b[0m\u001b[0mgrades\u001b[0m\u001b[0;34m)\u001b[0m\u001b[0;34m)\u001b[0m \u001b[0;34m/\u001b[0m \u001b[0mlen\u001b[0m\u001b[0;34m(\u001b[0m\u001b[0mgrades\u001b[0m\u001b[0;34m)\u001b[0m\u001b[0;34m\u001b[0m\u001b[0;34m\u001b[0m\u001b[0m\n\u001b[0m\u001b[1;32m      6\u001b[0m \u001b[0;34m\u001b[0m\u001b[0m\n\u001b[1;32m      7\u001b[0m \u001b[0mprint\u001b[0m\u001b[0;34m(\u001b[0m\u001b[0;34mf\"Highest Grade: {highest}\"\u001b[0m\u001b[0;34m)\u001b[0m\u001b[0;34m\u001b[0m\u001b[0;34m\u001b[0m\u001b[0m\n",
            "\u001b[0;31mTypeError\u001b[0m: 'int' object is not callable"
          ]
        }
      ]
    },
    {
      "cell_type": "markdown",
      "source": [
        " 3. Write a program to generate a list with the first 10 terms in an AP series with starting point 1 and difference"
      ],
      "metadata": {
        "id": "HBvrRTKUIdgh"
      }
    },
    {
      "cell_type": "code",
      "source": [
        "\n",
        "a1 = 1\n",
        "d = 3\n",
        "\n",
        "\n",
        "terms = []\n",
        "\n",
        "for n in range(10):\n",
        "    term = a1 + n * d\n",
        "    terms.append(term)\n",
        "\n",
        "\n",
        "print(terms)\n"
      ],
      "metadata": {
        "colab": {
          "base_uri": "https://localhost:8080/"
        },
        "id": "mAwkVZxrIuea",
        "outputId": "f682deb5-9d97-4583-d194-a6bfee98e203"
      },
      "execution_count": null,
      "outputs": [
        {
          "output_type": "stream",
          "name": "stdout",
          "text": [
            "[1, 4, 7, 10, 13, 16, 19, 22, 25, 28]\n"
          ]
        }
      ]
    },
    {
      "cell_type": "markdown",
      "source": [
        "4. Write a program to generate the list of first 10 terms in a GP series. The first term and common ratio will be provided by the user"
      ],
      "metadata": {
        "id": "K-GpHtXdJfKd"
      }
    },
    {
      "cell_type": "code",
      "source": [
        "# Python 3 program to print GP.\n",
        "curr_terms=[]\n",
        "def printGP(a, r, n):\n",
        "\tfor i in range(0, n):\n",
        "\t\tcurr_term = a * pow(r, i)\n",
        "\t\tprint(curr_term, end =\" \")\n",
        "\n",
        "\n",
        "# Driver code\n",
        "\n",
        "a = 2 # starting number\n",
        "r = 3 # Common ratio\n",
        "n = 10 # N th term to be find\n",
        "\n",
        "printGP(a, r, n)\n",
        "\n",
        "\n"
      ],
      "metadata": {
        "colab": {
          "base_uri": "https://localhost:8080/"
        },
        "id": "VY_p0GYfJime",
        "outputId": "35d180cb-db27-46c9-85bb-4009cd982593"
      },
      "execution_count": null,
      "outputs": [
        {
          "output_type": "stream",
          "name": "stdout",
          "text": [
            "2 6 18 54 162 486 1458 4374 13122 39366 "
          ]
        }
      ]
    },
    {
      "cell_type": "markdown",
      "source": [
        "\n",
        "5. Find duplicates in a list"
      ],
      "metadata": {
        "id": "1FfDmFkfK_x7"
      }
    },
    {
      "cell_type": "code",
      "source": [
        "lst = [1, 2, 3, 4, 2, 5, 6, 3, 7, 8, 1]\n",
        "for i  in range(0,len(lst)):\n",
        "  for j in  range(i+1,len(lst)):\n",
        "    if lst[i]==lst[j]:\n",
        "      print(lst[j])\n"
      ],
      "metadata": {
        "colab": {
          "base_uri": "https://localhost:8080/"
        },
        "id": "A82mdfwcLAc0",
        "outputId": "4f2d82c5-abe2-4270-92c9-6ae51ea68599"
      },
      "execution_count": null,
      "outputs": [
        {
          "output_type": "stream",
          "name": "stdout",
          "text": [
            "1\n",
            "2\n",
            "3\n"
          ]
        }
      ]
    },
    {
      "cell_type": "markdown",
      "source": [
        "Find the common terms in two lists\n"
      ],
      "metadata": {
        "id": "xGtTCXthMLIR"
      }
    },
    {
      "cell_type": "code",
      "source": [
        "a = [1, 2, 3, 4, 5]\n",
        "b = [4, 5, 6, 7, 8]\n",
        "\n",
        "# Find common elements using nested loops\n",
        "common = []\n",
        "for x in a:\n",
        "    if x in b:\n",
        "        common.append(x)\n",
        "\n",
        "print(common)"
      ],
      "metadata": {
        "colab": {
          "base_uri": "https://localhost:8080/"
        },
        "id": "ftp5lKYlMVAR",
        "outputId": "b6ef0fb9-2798-409f-a729-3ef192f7d84e"
      },
      "execution_count": null,
      "outputs": [
        {
          "output_type": "stream",
          "name": "stdout",
          "text": [
            "[4, 5]\n"
          ]
        }
      ]
    },
    {
      "cell_type": "markdown",
      "source": [
        "# **LIST**"
      ],
      "metadata": {
        "id": "thRmTFl7MzSz"
      }
    },
    {
      "cell_type": "code",
      "source": [
        " h=\"hello\"\n",
        " print(h)"
      ],
      "metadata": {
        "colab": {
          "base_uri": "https://localhost:8080/"
        },
        "id": "50NzdRcBM4Fz",
        "outputId": "a0dc3605-f591-4828-8236-95d07895a840"
      },
      "execution_count": null,
      "outputs": [
        {
          "output_type": "stream",
          "name": "stdout",
          "text": [
            "hello\n"
          ]
        }
      ]
    },
    {
      "cell_type": "code",
      "source": [
        "nested=[[2,[37,34]],4,[\"hello\"]]\n",
        "#[2,[37,34]]==0[0,1[0,1]]\n",
        "#4=1\n",
        "#[\"hello\"]=2[[0],[0:...]]\n",
        "print(nested)\n",
        "print(nested[0])\n",
        "print(nested[0][1][1])\n",
        "print(nested[1])\n",
        "print(nested[2])\n",
        "print(nested[2][0][1:4])"
      ],
      "metadata": {
        "colab": {
          "base_uri": "https://localhost:8080/"
        },
        "id": "7KFNUzxxQyTS",
        "outputId": "4938da1a-8da5-4544-fd23-dd34c8b825c2"
      },
      "execution_count": null,
      "outputs": [
        {
          "output_type": "stream",
          "name": "stdout",
          "text": [
            "[[2, [37, 34]], 4, ['hello']]\n",
            "[2, [37, 34]]\n",
            "34\n",
            "4\n",
            "['hello']\n",
            "ell\n"
          ]
        }
      ]
    },
    {
      "cell_type": "code",
      "source": [
        "'''\n",
        "Nested For Loops\n",
        "'''\n",
        "matrix = [[1, 2, 3], [4, 5, 6], [7, 8, 9]]\n",
        "for row in matrix:\n",
        "  print(row, end=\" \")\n",
        "  print()  # Newline after each row\n"
      ],
      "metadata": {
        "colab": {
          "base_uri": "https://localhost:8080/"
        },
        "id": "k9fvdH0wTr16",
        "outputId": "25ed7857-631e-4f6c-9201-d4156a7a828b"
      },
      "execution_count": null,
      "outputs": [
        {
          "output_type": "stream",
          "name": "stdout",
          "text": [
            "[1, 2, 3] \n",
            "[4, 5, 6] \n",
            "[7, 8, 9] \n"
          ]
        }
      ]
    },
    {
      "cell_type": "code",
      "source": [
        "'''\n",
        "Nested For Loops\n",
        "'''\n",
        "matrix = [[1, 2, 3], [4, 5, 6], [7, 8, 9]]\n",
        "for row in matrix:\n",
        "    for value in row:\n",
        "        print(value, end=\" \")\n",
        "    print()  # Newline after each row\n"
      ],
      "metadata": {
        "colab": {
          "base_uri": "https://localhost:8080/"
        },
        "id": "Jvrc4-qvT7I8",
        "outputId": "1f450f4a-fdf1-482e-8dbf-178077a77d99"
      },
      "execution_count": null,
      "outputs": [
        {
          "output_type": "stream",
          "name": "stdout",
          "text": [
            "1... 2... 3... \n",
            "4... 5... 6... \n",
            "7... 8... 9... \n"
          ]
        }
      ]
    },
    {
      "cell_type": "code",
      "source": [
        "l=[]\n",
        "p=l\n",
        "l=[1,3]\n",
        "\n",
        "print(p)"
      ],
      "metadata": {
        "colab": {
          "base_uri": "https://localhost:8080/"
        },
        "id": "1rI0Wai3dEMM",
        "outputId": "05569830-2020-445b-e9f3-d3acd1f7de95"
      },
      "execution_count": null,
      "outputs": [
        {
          "output_type": "stream",
          "name": "stdout",
          "text": [
            "[]\n"
          ]
        }
      ]
    },
    {
      "cell_type": "markdown",
      "source": [
        "Python List methods"
      ],
      "metadata": {
        "id": "iPmUJA-OBDXo"
      }
    },
    {
      "cell_type": "markdown",
      "source": [
        "append():\n",
        "\n",
        "    Syntax: list_name.append(element)\n",
        "\n"
      ],
      "metadata": {
        "id": "EkkR6SEwBadR"
      }
    },
    {
      "cell_type": "markdown",
      "source": [
        "**remove() Method**"
      ],
      "metadata": {
        "id": "uKbtHvZwB0La"
      }
    },
    {
      "cell_type": "markdown",
      "source": [
        "https://www.w3schools.com/python/python_ref_list.asp"
      ],
      "metadata": {
        "id": "2puKmffvCD6a"
      }
    },
    {
      "cell_type": "markdown",
      "source": [],
      "metadata": {
        "id": "tmHaCfGGF3w1"
      }
    },
    {
      "cell_type": "markdown",
      "source": [
        " Write a function that removes duplicate elements from a given list while maintaining order"
      ],
      "metadata": {
        "id": "fIGk_SNsKaGi"
      }
    },
    {
      "cell_type": "code",
      "source": [
        "a = [1, 2, 3, 4, 2, 5, 6, 3, 7, 8, 8,1]\n",
        "\n",
        "\n",
        "b = []\n",
        "\n",
        "def duplicate(a,b):\n",
        "  for x in a :\n",
        "    if x not in b:\n",
        "      b.append(x)\n",
        "\n",
        "\n",
        "duplicate(a,b)\n",
        "print(b)"
      ],
      "metadata": {
        "colab": {
          "base_uri": "https://localhost:8080/"
        },
        "id": "hJocjloTKkrS",
        "outputId": "62039b9c-58fc-4f30-cb90-c85c9b42bd7b"
      },
      "execution_count": null,
      "outputs": [
        {
          "output_type": "stream",
          "name": "stdout",
          "text": [
            "[1, 2, 3, 4, 5, 6, 7, 8]\n"
          ]
        }
      ]
    },
    {
      "cell_type": "markdown",
      "source": [
        "2. ⁠Create a list of CGPA’s of 10 students and then print the maximum, minimum and average CGPA. Also print the Frequency of the CGPA"
      ],
      "metadata": {
        "id": "3kXnVzGFK3TL"
      }
    },
    {
      "cell_type": "code",
      "source": [
        "a = [8.5,7.5,6.5,9.0,3.0,2.0,10.0,7.5,9.63,8.2]\n",
        "print(a)\n",
        "print(\"Maxmimum CGPA\",max(a))\n",
        "print(\"Minimum CGPA\",min(a))\n",
        "print(\"Average Cgpa\",sum(a)/len(a))\n",
        "\n",
        "# Create a list of unique items\n",
        "b = set(a)\n",
        "\n",
        "# Use list comprehension to count the frequency of each unique item\n",
        "c = {item: a.count(item) for item in b}\n",
        "\n",
        "# Print the frequency of each item\n",
        "print(c)\n"
      ],
      "metadata": {
        "colab": {
          "base_uri": "https://localhost:8080/"
        },
        "id": "YC4Q7rxnLEes",
        "outputId": "59624f2e-5e9d-4529-ece6-d8aeef4875d8"
      },
      "execution_count": null,
      "outputs": [
        {
          "output_type": "stream",
          "name": "stdout",
          "text": [
            "[8.5, 7.5, 6.5, 9.0, 3.0, 2.0, 10.0, 7.5, 9.63, 8.2]\n",
            "Maxmimum CGPA 10.0\n",
            "Minimum CGPA 2.0\n",
            "Average Cgpa 7.183\n",
            "{2.0: 1, 3.0: 1, 6.5: 1, 7.5: 2, 8.5: 1, 9.0: 1, 10.0: 1, 9.63: 1, 8.2: 1}\n"
          ]
        }
      ]
    },
    {
      "cell_type": "markdown",
      "source": [
        "3. ⁠In the above list print how many students scored in the range , 5-6, 6-7, 7-8, 8-9, 9-10 4"
      ],
      "metadata": {
        "id": "_Wg6yKY5O6nr"
      }
    },
    {
      "cell_type": "code",
      "source": [
        "ranges = {\"5-6\": 0, \"6-7\": 0, \"7-8\": 0, \"8-9\": 0, \"9-10\": 0}\n",
        "\n",
        "for cgpa in a:\n",
        "    if 5 <= cgpa < 6:\n",
        "        ranges[\"5-6\"] += 1\n",
        "    elif 6 <= cgpa < 7:\n",
        "        ranges[\"6-7\"] += 1\n",
        "    elif 7 <= cgpa < 8:\n",
        "        ranges[\"7-8\"] += 1\n",
        "    elif 8 <= cgpa < 9:\n",
        "        ranges[\"8-9\"] += 1\n",
        "    elif 9 <= cgpa <= 10:\n",
        "        ranges[\"9-10\"] += 1\n",
        "\n",
        "print(\"CGPA Range Counts:\", ranges)\n"
      ],
      "metadata": {
        "colab": {
          "base_uri": "https://localhost:8080/"
        },
        "id": "TZDpjKfAO7e6",
        "outputId": "37af5dbb-0cee-4b71-e330-96e7949ec160"
      },
      "execution_count": null,
      "outputs": [
        {
          "output_type": "stream",
          "name": "stdout",
          "text": [
            "CGPA Range Counts: {'5-6': 0, '6-7': 1, '7-8': 2, '8-9': 2, '9-10': 3}\n"
          ]
        }
      ]
    },
    {
      "cell_type": "markdown",
      "source": [
        "⁠4.Write a program to check if a given list is sorted."
      ],
      "metadata": {
        "id": "fxrDMlk_P99o"
      }
    },
    {
      "cell_type": "code",
      "source": [
        "a=[1,4,2,3,5,6]\n",
        "if a==sorted(a):\n",
        "  print(\"Sorted\")\n",
        "else:\n",
        "  print(\"Not Sorted\")a"
      ],
      "metadata": {
        "colab": {
          "base_uri": "https://localhost:8080/"
        },
        "id": "5ID5qRhNQV3y",
        "outputId": "05aafee0-77a1-47da-bdd2-5fddee65fa0f"
      },
      "execution_count": null,
      "outputs": [
        {
          "output_type": "stream",
          "name": "stdout",
          "text": [
            "Not Sorted\n"
          ]
        }
      ]
    },
    {
      "cell_type": "markdown",
      "source": [
        "5. ⁠Write a Python program to find the second largest number in a list."
      ],
      "metadata": {
        "id": "gwZFh6LFQ7nd"
      }
    },
    {
      "cell_type": "code",
      "source": [
        "a=[1,4,2,3,5,6]\n",
        "revered=sorted(a,reverse=True)\n",
        "print(Second largest Element)\n",
        "print(revered[1])"
      ],
      "metadata": {
        "colab": {
          "base_uri": "https://localhost:8080/"
        },
        "id": "UUW2nExZQ-e8",
        "outputId": "89be94af-5179-4391-ed74-751825c843b0"
      },
      "execution_count": null,
      "outputs": [
        {
          "output_type": "stream",
          "name": "stdout",
          "text": [
            "5\n"
          ]
        }
      ]
    },
    {
      "cell_type": "markdown",
      "source": [
        " 6. ⁠Given two lists, return a new list containing only the common elements between them."
      ],
      "metadata": {
        "id": "cCqZ_RINeUhr"
      }
    },
    {
      "cell_type": "code",
      "source": [
        "def common_elements(lst1, lst2):\n",
        "    return list(set(lst1) & set(lst2))\n",
        "\n",
        "print(common_elements([1, 2, 3, 4], [3, 4, 5, 6]))  # [3, 4]"
      ],
      "metadata": {
        "colab": {
          "base_uri": "https://localhost:8080/"
        },
        "id": "0F68b3A0e-Uc",
        "outputId": "432fffd7-ce29-4c2a-9b92-4b97d68b81fe"
      },
      "execution_count": null,
      "outputs": [
        {
          "output_type": "stream",
          "name": "stdout",
          "text": [
            "[3, 4]\n"
          ]
        }
      ]
    },
    {
      "cell_type": "markdown",
      "source": [
        "7. ⁠Given a list of numbers and a target sum, find all unique pairs whose sum is equal to the target"
      ],
      "metadata": {
        "id": "g2hU2_CefZ4o"
      }
    },
    {
      "cell_type": "code",
      "source": [
        "# Python3 program to find all pairs in\n",
        "# a list of integers with given sum\n",
        "\n",
        "def findPairs(lst, K):\n",
        "\tres = []\n",
        "\twhile lst:\n",
        "\t\tnum = lst.pop()\n",
        "\t\tdiff = K - num\n",
        "\t\tif diff in lst:\n",
        "\t\t\tres.append((diff, num))\n",
        "\n",
        "\tres.reverse()\n",
        "\treturn res\n",
        "\n",
        "# Driver code\n",
        "lst = [1, 5, 3,4, 7,8, 9]\n",
        "K = 12\n",
        "print(findPairs(lst, K))\n"
      ],
      "metadata": {
        "colab": {
          "base_uri": "https://localhost:8080/"
        },
        "id": "P3RAw6Ejfac3",
        "outputId": "065c4046-4c93-4200-a429-d2611af40a20"
      },
      "execution_count": null,
      "outputs": [
        {
          "output_type": "stream",
          "name": "stdout",
          "text": [
            "[(5, 7), (4, 8), (3, 9)]\n"
          ]
        }
      ]
    },
    {
      "cell_type": "markdown",
      "source": [
        "8. ⁠Given a list containing numbers from 1 to n with one missing number, find the missing number"
      ],
      "metadata": {
        "id": "P2GKw3zbg5rL"
      }
    },
    {
      "cell_type": "code",
      "source": [
        "def find_missing_number(arr):\n",
        "    n = len(arr) + 1\n",
        "    hash_set = set(arr)\n",
        "\n",
        "    for i in range(1, n):\n",
        "        if i not in hash_set:\n",
        "            return i\n",
        "\n",
        "    return n\n",
        "\n",
        "arr = [1, 2, 4, 6, 3, 7, 8]\n",
        "missing_number = find_missing_number(arr)\n",
        "print(\"Missing number is:\", missing_number)"
      ],
      "metadata": {
        "id": "dU67BfNVhZcJ"
      },
      "execution_count": null,
      "outputs": []
    },
    {
      "cell_type": "markdown",
      "source": [
        " 9. ⁠Write a program to merge two sorted lists."
      ],
      "metadata": {
        "id": "G5M2A6Qqhcty"
      }
    },
    {
      "cell_type": "code",
      "source": [
        "def merge_sorted_lists(lst1, lst2):\n",
        "    return sorted(lst1 + lst2)\n",
        "\n",
        "print(merge_sorted_lists([1, 3, 5], [2, 4, 6]))  # [1, 2, 3, 4, 5, 6]"
      ],
      "metadata": {
        "id": "rleSj5BUheo8"
      },
      "execution_count": null,
      "outputs": []
    },
    {
      "cell_type": "markdown",
      "source": [
        "10. ⁠Write a program that rotate a list by k positions to right. For example if k=2, then [1, 3, 4, 5, 7] will be rotated to [5, 7, 1, 3, 4]"
      ],
      "metadata": {
        "id": "yhzMLk06hldi"
      }
    },
    {
      "cell_type": "code",
      "source": [
        "# Python3 implementation of right rotation\n",
        "# of an array K number of times\n",
        "\n",
        "# Function to rightRotate array\n",
        "def RightRotate(a, n, k):\n",
        "\n",
        "    # If rotation is greater\n",
        "    # than size of array\n",
        "    k = k % n;\n",
        "    print(k)\n",
        "    for i in range(0, n):\n",
        "\n",
        "        if(i < k):\n",
        "\n",
        "            # Printing rightmost\n",
        "            # kth elements\n",
        "            print(a[n + i - k], end = \" \");\n",
        "\n",
        "        else:\n",
        "\n",
        "            # Prints array after\n",
        "            # 'k' elements\n",
        "            print(a[i - k], end = \" \");\n",
        "\n",
        "    print(\"\\n\");\n",
        "\n",
        "# Driver code\n",
        "Array = [ 1, 2, 3, 4, 5 ];\n",
        "N = len(Array);\n",
        "print(N)\n",
        "K = 3;\n",
        "\n",
        "RightRotate(Array, N, K);\n",
        "\n",
        "# This code is contributed by Code_Mech"
      ],
      "metadata": {
        "colab": {
          "base_uri": "https://localhost:8080/"
        },
        "id": "EAdSBjuAhl7q",
        "outputId": "1c2af785-a66d-4a60-855b-45610444c6cb"
      },
      "execution_count": null,
      "outputs": [
        {
          "output_type": "stream",
          "name": "stdout",
          "text": [
            "5\n",
            "3\n",
            "3 4 5 1 2 \n",
            "\n"
          ]
        }
      ]
    },
    {
      "cell_type": "code",
      "source": [],
      "metadata": {
        "id": "u7xNeflMkDqq"
      },
      "execution_count": null,
      "outputs": []
    }
  ]
}